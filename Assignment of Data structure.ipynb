{
 "cells": [
  {
   "cell_type": "code",
   "execution_count": null,
   "metadata": {
    "id": "Az8UsX8M0niF"
   },
   "outputs": [],
   "source": [
    "#(Q)1) Discuss string slicing and provide examples"
   ]
  },
  {
   "cell_type": "code",
   "execution_count": null,
   "metadata": {
    "colab": {
     "background_save": true,
     "base_uri": "https://localhost:8080/",
     "height": 35
    },
    "executionInfo": {
     "elapsed": 28,
     "status": "ok",
     "timestamp": 1721024865479,
     "user": {
      "displayName": "Asad Raza",
      "userId": "18380366987480511932"
     },
     "user_tz": -330
    },
    "id": "0dQx3cV20zY9",
    "outputId": "4fcb1343-56e7-4689-f9c4-6d1a44dd2690"
   },
   "outputs": [
    {
     "data": {
      "application/vnd.google.colaboratory.intrinsic+json": {
       "type": "string"
      },
      "text/plain": [
       "'Pwskills'"
      ]
     },
     "execution_count": 83,
     "metadata": {},
     "output_type": "execute_result"
    }
   ],
   "source": [
    "#(Ans):- String slicing means break the string into smaller pieces.In other word string slicing means extract the substring from string.It's syntax is looking like:[Start index:end index:step index]\n",
    "#(Ex):-\n",
    "a=\"Pwskills\"\n",
    "a"
   ]
  },
  {
   "cell_type": "code",
   "execution_count": null,
   "metadata": {
    "colab": {
     "background_save": true,
     "base_uri": "https://localhost:8080/",
     "height": 35
    },
    "executionInfo": {
     "elapsed": 497,
     "status": "ok",
     "timestamp": 1721024883819,
     "user": {
      "displayName": "Asad Raza",
      "userId": "18380366987480511932"
     },
     "user_tz": -330
    },
    "id": "gc4DFz8mE2x7",
    "outputId": "2495fa7b-6042-4afb-964d-166ab711be7e"
   },
   "outputs": [
    {
     "data": {
      "application/vnd.google.colaboratory.intrinsic+json": {
       "type": "string"
      },
      "text/plain": [
       "'Pwski'"
      ]
     },
     "execution_count": 49,
     "metadata": {},
     "output_type": "execute_result"
    }
   ],
   "source": [
    "a[0:5]"
   ]
  },
  {
   "cell_type": "code",
   "execution_count": null,
   "metadata": {
    "colab": {
     "base_uri": "https://localhost:8080/",
     "height": 35
    },
    "executionInfo": {
     "elapsed": 627,
     "status": "ok",
     "timestamp": 1721024894700,
     "user": {
      "displayName": "Asad Raza",
      "userId": "18380366987480511932"
     },
     "user_tz": -330
    },
    "id": "KNamljwZE61t",
    "outputId": "0bf95213-0554-4929-96e2-29be26471389"
   },
   "outputs": [
    {
     "data": {
      "application/vnd.google.colaboratory.intrinsic+json": {
       "type": "string"
      },
      "text/plain": [
       "'sllikswP'"
      ]
     },
     "execution_count": 3,
     "metadata": {},
     "output_type": "execute_result"
    }
   ],
   "source": [
    "a[::-1]"
   ]
  },
  {
   "cell_type": "code",
   "execution_count": null,
   "metadata": {
    "colab": {
     "base_uri": "https://localhost:8080/",
     "height": 35
    },
    "executionInfo": {
     "elapsed": 559,
     "status": "ok",
     "timestamp": 1721024907170,
     "user": {
      "displayName": "Asad Raza",
      "userId": "18380366987480511932"
     },
     "user_tz": -330
    },
    "id": "qrDommrrE-DW",
    "outputId": "6e86184e-777a-4066-a97c-ff5151a333d5"
   },
   "outputs": [
    {
     "data": {
      "application/vnd.google.colaboratory.intrinsic+json": {
       "type": "string"
      },
      "text/plain": [
       "'s'"
      ]
     },
     "execution_count": 4,
     "metadata": {},
     "output_type": "execute_result"
    }
   ],
   "source": [
    "a[-1::]"
   ]
  },
  {
   "cell_type": "code",
   "execution_count": null,
   "metadata": {
    "id": "ynCKSgHBFDVL"
   },
   "outputs": [],
   "source": [
    "#(Q)2)Explain the key features of lists in Python"
   ]
  },
  {
   "cell_type": "code",
   "execution_count": null,
   "metadata": {
    "id": "cwNG-2MaFZXW"
   },
   "outputs": [],
   "source": [
    "#(Ans):- Key features of lists in python are:\n",
    "#(1) Lists are Mutable.\n",
    "#(2) Lists is an ordered collection of an element.\n",
    "#(3) Lists are Heterogeneous in nature ,that can store/hold any data type.\n",
    "#(Ex):-\n",
    "a=[\"Raj\",\"Sanjay\",1,2.3,True,(3+5j)]"
   ]
  },
  {
   "cell_type": "code",
   "execution_count": null,
   "metadata": {
    "colab": {
     "base_uri": "https://localhost:8080/"
    },
    "executionInfo": {
     "elapsed": 656,
     "status": "ok",
     "timestamp": 1721025216390,
     "user": {
      "displayName": "Asad Raza",
      "userId": "18380366987480511932"
     },
     "user_tz": -330
    },
    "id": "e5I73EfmFZpP",
    "outputId": "a0a2e883-2ce1-4fbe-aa54-b7e8866eb65b"
   },
   "outputs": [
    {
     "data": {
      "text/plain": [
       "['Raj', 'Sanjay', 1, 2.3, True, (3+5j)]"
      ]
     },
     "execution_count": 7,
     "metadata": {},
     "output_type": "execute_result"
    }
   ],
   "source": [
    "a"
   ]
  },
  {
   "cell_type": "code",
   "execution_count": null,
   "metadata": {
    "id": "eViflDIhFZ1t"
   },
   "outputs": [],
   "source": [
    "a[1]=\"Ajay\" #Lists are mutable#"
   ]
  },
  {
   "cell_type": "code",
   "execution_count": null,
   "metadata": {
    "colab": {
     "base_uri": "https://localhost:8080/"
    },
    "executionInfo": {
     "elapsed": 475,
     "status": "ok",
     "timestamp": 1721025253147,
     "user": {
      "displayName": "Asad Raza",
      "userId": "18380366987480511932"
     },
     "user_tz": -330
    },
    "id": "IVPZ6sQPFaBe",
    "outputId": "f5cea316-b7c1-4b1e-bfcb-b32835331c72"
   },
   "outputs": [
    {
     "data": {
      "text/plain": [
       "['Raj', 'Ajay', 1, 2.3, True, (3+5j)]"
      ]
     },
     "execution_count": 9,
     "metadata": {},
     "output_type": "execute_result"
    }
   ],
   "source": [
    "a"
   ]
  },
  {
   "cell_type": "code",
   "execution_count": null,
   "metadata": {
    "id": "twCedE33GVJI"
   },
   "outputs": [],
   "source": [
    "# (Q)3)Describe how to access, modify, and delete elements in a list with examples"
   ]
  },
  {
   "cell_type": "code",
   "execution_count": null,
   "metadata": {
    "colab": {
     "base_uri": "https://localhost:8080/"
    },
    "executionInfo": {
     "elapsed": 484,
     "status": "ok",
     "timestamp": 1721025451579,
     "user": {
      "displayName": "Asad Raza",
      "userId": "18380366987480511932"
     },
     "user_tz": -330
    },
    "id": "5GMWf5PJGVnV",
    "outputId": "151e7ce8-c2dc-40ee-cd29-2256cec7d1cc"
   },
   "outputs": [
    {
     "data": {
      "text/plain": [
       "['Potato', 'Tomato', 1, 2.5, False]"
      ]
     },
     "execution_count": 10,
     "metadata": {},
     "output_type": "execute_result"
    }
   ],
   "source": [
    "#(Ans):-#How to access\n",
    "#By using lists index we can access the elements of lists.\n",
    "#(Ex):-\n",
    "a=[\"Potato\",\"Tomato\",1,2.5,False]\n",
    "a"
   ]
  },
  {
   "cell_type": "code",
   "execution_count": null,
   "metadata": {
    "colab": {
     "base_uri": "https://localhost:8080/",
     "height": 35
    },
    "executionInfo": {
     "elapsed": 477,
     "status": "ok",
     "timestamp": 1721025505490,
     "user": {
      "displayName": "Asad Raza",
      "userId": "18380366987480511932"
     },
     "user_tz": -330
    },
    "id": "xKmbgBkNGV-2",
    "outputId": "96e28c1d-b9ce-4b75-b3bc-6fe175d38478"
   },
   "outputs": [
    {
     "data": {
      "application/vnd.google.colaboratory.intrinsic+json": {
       "type": "string"
      },
      "text/plain": [
       "'Tomato'"
      ]
     },
     "execution_count": 11,
     "metadata": {},
     "output_type": "execute_result"
    }
   ],
   "source": [
    "a[1]"
   ]
  },
  {
   "cell_type": "code",
   "execution_count": null,
   "metadata": {
    "colab": {
     "base_uri": "https://localhost:8080/"
    },
    "executionInfo": {
     "elapsed": 636,
     "status": "ok",
     "timestamp": 1721025515901,
     "user": {
      "displayName": "Asad Raza",
      "userId": "18380366987480511932"
     },
     "user_tz": -330
    },
    "id": "bcTYGOMXHTBD",
    "outputId": "2a2b2bf5-d183-46d5-ff07-bd36c9e132c5"
   },
   "outputs": [
    {
     "data": {
      "text/plain": [
       "False"
      ]
     },
     "execution_count": 12,
     "metadata": {},
     "output_type": "execute_result"
    }
   ],
   "source": [
    "a[-1]"
   ]
  },
  {
   "cell_type": "code",
   "execution_count": null,
   "metadata": {
    "colab": {
     "base_uri": "https://localhost:8080/",
     "height": 35
    },
    "executionInfo": {
     "elapsed": 591,
     "status": "ok",
     "timestamp": 1721025532059,
     "user": {
      "displayName": "Asad Raza",
      "userId": "18380366987480511932"
     },
     "user_tz": -330
    },
    "id": "E0JXAtGXHVlb",
    "outputId": "d72b3cef-66c9-4eb9-cea2-80a7ee6b140b"
   },
   "outputs": [
    {
     "data": {
      "application/vnd.google.colaboratory.intrinsic+json": {
       "type": "string"
      },
      "text/plain": [
       "'Tomato'"
      ]
     },
     "execution_count": 13,
     "metadata": {},
     "output_type": "execute_result"
    }
   ],
   "source": [
    "a[-4]"
   ]
  },
  {
   "cell_type": "code",
   "execution_count": null,
   "metadata": {
    "colab": {
     "base_uri": "https://localhost:8080/"
    },
    "executionInfo": {
     "elapsed": 682,
     "status": "ok",
     "timestamp": 1721025723130,
     "user": {
      "displayName": "Asad Raza",
      "userId": "18380366987480511932"
     },
     "user_tz": -330
    },
    "id": "OIog5domHZnH",
    "outputId": "f2cec850-fff5-4344-a9e4-8e2db61feffb"
   },
   "outputs": [
    {
     "data": {
      "text/plain": [
       "['Potato', 'Brinjal', 'Papaya', 1, False]"
      ]
     },
     "execution_count": 15,
     "metadata": {},
     "output_type": "execute_result"
    }
   ],
   "source": [
    "#How to modify #\n",
    "#By using append function we can modify the elements of lists.And also changing elements in lists we can modify.\n",
    "#(Ex):-\n",
    "a=[\"Potato\",\"Brinjal\",\"Papaya\",1,False]\n",
    "a"
   ]
  },
  {
   "cell_type": "code",
   "execution_count": null,
   "metadata": {
    "id": "eKO5FilzIIJt"
   },
   "outputs": [],
   "source": [
    "a.append(\"Guava\")"
   ]
  },
  {
   "cell_type": "code",
   "execution_count": null,
   "metadata": {
    "colab": {
     "base_uri": "https://localhost:8080/"
    },
    "executionInfo": {
     "elapsed": 4,
     "status": "ok",
     "timestamp": 1721025754112,
     "user": {
      "displayName": "Asad Raza",
      "userId": "18380366987480511932"
     },
     "user_tz": -330
    },
    "id": "2m0hAn9THaFI",
    "outputId": "985512f8-f9b7-437d-aabe-b35c1b97ac2a"
   },
   "outputs": [
    {
     "data": {
      "text/plain": [
       "['Potato', 'Brinjal', 'Papaya', 1, False, 'Guava']"
      ]
     },
     "execution_count": 17,
     "metadata": {},
     "output_type": "execute_result"
    }
   ],
   "source": [
    "a"
   ]
  },
  {
   "cell_type": "code",
   "execution_count": null,
   "metadata": {
    "id": "c4Qsya7qIPKE"
   },
   "outputs": [],
   "source": [
    "a[-2]=True"
   ]
  },
  {
   "cell_type": "code",
   "execution_count": null,
   "metadata": {
    "colab": {
     "base_uri": "https://localhost:8080/"
    },
    "executionInfo": {
     "elapsed": 589,
     "status": "ok",
     "timestamp": 1721025796867,
     "user": {
      "displayName": "Asad Raza",
      "userId": "18380366987480511932"
     },
     "user_tz": -330
    },
    "id": "4rvQg6F3IQGl",
    "outputId": "ef1d0038-4bbd-4bb7-edd5-0bbf9c9b603a"
   },
   "outputs": [
    {
     "data": {
      "text/plain": [
       "['Potato', 'Brinjal', 'Papaya', 1, True, 'Guava']"
      ]
     },
     "execution_count": 19,
     "metadata": {},
     "output_type": "execute_result"
    }
   ],
   "source": [
    "a"
   ]
  },
  {
   "cell_type": "code",
   "execution_count": null,
   "metadata": {
    "colab": {
     "base_uri": "https://localhost:8080/"
    },
    "executionInfo": {
     "elapsed": 538,
     "status": "ok",
     "timestamp": 1721025919751,
     "user": {
      "displayName": "Asad Raza",
      "userId": "18380366987480511932"
     },
     "user_tz": -330
    },
    "id": "a_Ob2KCIIQcT",
    "outputId": "5527bda5-7bb8-448a-a70d-8474cb7ad301"
   },
   "outputs": [
    {
     "data": {
      "text/plain": [
       "['potato', 'Brinjal', 'papaya', 1, False, 'Guava']"
      ]
     },
     "execution_count": 20,
     "metadata": {},
     "output_type": "execute_result"
    }
   ],
   "source": [
    "#How to delet#\n",
    "#By using remove function we can delet the elements.\n",
    "#(Ex):-\n",
    "a=[\"potato\",\"Brinjal\",\"papaya\",1,False,\"Guava\"]\n",
    "a"
   ]
  },
  {
   "cell_type": "code",
   "execution_count": null,
   "metadata": {
    "id": "OBJaactVIQyX"
   },
   "outputs": [],
   "source": [
    "a.remove(False)"
   ]
  },
  {
   "cell_type": "code",
   "execution_count": null,
   "metadata": {
    "colab": {
     "base_uri": "https://localhost:8080/"
    },
    "executionInfo": {
     "elapsed": 504,
     "status": "ok",
     "timestamp": 1721025954900,
     "user": {
      "displayName": "Asad Raza",
      "userId": "18380366987480511932"
     },
     "user_tz": -330
    },
    "id": "tnIEfEfGIRIO",
    "outputId": "078ecb9c-6424-4736-9a94-ecacca203f44"
   },
   "outputs": [
    {
     "data": {
      "text/plain": [
       "['potato', 'Brinjal', 'papaya', 1, 'Guava']"
      ]
     },
     "execution_count": 23,
     "metadata": {},
     "output_type": "execute_result"
    }
   ],
   "source": [
    "a"
   ]
  },
  {
   "cell_type": "code",
   "execution_count": null,
   "metadata": {
    "id": "OZ2uu0HXIRfZ"
   },
   "outputs": [],
   "source": [
    "# (Q)4)Compare and contrast tuples and lists with examples"
   ]
  },
  {
   "cell_type": "code",
   "execution_count": null,
   "metadata": {
    "colab": {
     "base_uri": "https://localhost:8080/"
    },
    "executionInfo": {
     "elapsed": 653,
     "status": "ok",
     "timestamp": 1721026887078,
     "user": {
      "displayName": "Asad Raza",
      "userId": "18380366987480511932"
     },
     "user_tz": -330
    },
    "id": "GeE8JT9ZIRyz",
    "outputId": "e2f6ef4e-2a30-45fb-c643-e40841403478"
   },
   "outputs": [
    {
     "data": {
      "text/plain": [
       "['Data science', 'Raj', 1]"
      ]
     },
     "execution_count": 37,
     "metadata": {},
     "output_type": "execute_result"
    }
   ],
   "source": [
    "#(Ans):- #(.) Lists are ordered collection of any elements that can store any data type ,like  mom's shopping bag.It is Heterogeneous in nature and It is Mutable.\n",
    "         #(.)Tuples are also ordered collection of elements that can store/hold any data type,like mom's shopping bag.It is aslo Heterogeneous in nature,but only the difference is It is immutable.\n",
    "#lists#\n",
    "#(Ex):-\n",
    "a=[\"Data science\",\"Raj\",1]\n",
    "a"
   ]
  },
  {
   "cell_type": "code",
   "execution_count": null,
   "metadata": {
    "colab": {
     "base_uri": "https://localhost:8080/"
    },
    "executionInfo": {
     "elapsed": 528,
     "status": "ok",
     "timestamp": 1721026892727,
     "user": {
      "displayName": "Asad Raza",
      "userId": "18380366987480511932"
     },
     "user_tz": -330
    },
    "id": "-QJiNPZPISEM",
    "outputId": "857483a3-0833-4ba6-8ede-dab5f0cd5b35"
   },
   "outputs": [
    {
     "data": {
      "text/plain": [
       "1"
      ]
     },
     "execution_count": 38,
     "metadata": {},
     "output_type": "execute_result"
    }
   ],
   "source": [
    "a[2]"
   ]
  },
  {
   "cell_type": "code",
   "execution_count": null,
   "metadata": {
    "colab": {
     "base_uri": "https://localhost:8080/",
     "height": 35
    },
    "executionInfo": {
     "elapsed": 806,
     "status": "ok",
     "timestamp": 1721026896682,
     "user": {
      "displayName": "Asad Raza",
      "userId": "18380366987480511932"
     },
     "user_tz": -330
    },
    "id": "AxxvSo5BISWo",
    "outputId": "58633798-0a78-4705-b557-ce27af1661a9"
   },
   "outputs": [
    {
     "data": {
      "application/vnd.google.colaboratory.intrinsic+json": {
       "type": "string"
      },
      "text/plain": [
       "'Raj'"
      ]
     },
     "execution_count": 39,
     "metadata": {},
     "output_type": "execute_result"
    }
   ],
   "source": [
    "a[1]"
   ]
  },
  {
   "cell_type": "code",
   "execution_count": null,
   "metadata": {
    "id": "Q2fd8mMNLwZW"
   },
   "outputs": [],
   "source": [
    "a[1]=\"Shyam\" #It is Mutable ,means changable"
   ]
  },
  {
   "cell_type": "code",
   "execution_count": null,
   "metadata": {
    "colab": {
     "base_uri": "https://localhost:8080/"
    },
    "executionInfo": {
     "elapsed": 485,
     "status": "ok",
     "timestamp": 1721026906915,
     "user": {
      "displayName": "Asad Raza",
      "userId": "18380366987480511932"
     },
     "user_tz": -330
    },
    "id": "1H5usJXJL2mH",
    "outputId": "9f169719-8f38-42e9-830b-8fce395ea37a"
   },
   "outputs": [
    {
     "data": {
      "text/plain": [
       "['Data science', 'Shyam', 1]"
      ]
     },
     "execution_count": 42,
     "metadata": {},
     "output_type": "execute_result"
    }
   ],
   "source": [
    "a"
   ]
  },
  {
   "cell_type": "code",
   "execution_count": null,
   "metadata": {
    "colab": {
     "base_uri": "https://localhost:8080/"
    },
    "executionInfo": {
     "elapsed": 501,
     "status": "ok",
     "timestamp": 1721026909951,
     "user": {
      "displayName": "Asad Raza",
      "userId": "18380366987480511932"
     },
     "user_tz": -330
    },
    "id": "8fzHQXpIL3fa",
    "outputId": "75c5fbc7-f40d-48d2-9af8-cd8e4da156cb"
   },
   "outputs": [
    {
     "data": {
      "text/plain": [
       "('Data science', 'Raj', 1)"
      ]
     },
     "execution_count": 43,
     "metadata": {},
     "output_type": "execute_result"
    }
   ],
   "source": [
    "#Tuples#\n",
    "#(Ex):-\n",
    "a=(\"Data science\",\"Raj\",1)\n",
    "a"
   ]
  },
  {
   "cell_type": "code",
   "execution_count": null,
   "metadata": {
    "colab": {
     "base_uri": "https://localhost:8080/",
     "height": 35
    },
    "executionInfo": {
     "elapsed": 14,
     "status": "ok",
     "timestamp": 1721026913333,
     "user": {
      "displayName": "Asad Raza",
      "userId": "18380366987480511932"
     },
     "user_tz": -330
    },
    "id": "lJXWzbj5MNVR",
    "outputId": "b049b54e-b7a0-46b9-e4ce-86d22f1b5ebf"
   },
   "outputs": [
    {
     "data": {
      "application/vnd.google.colaboratory.intrinsic+json": {
       "type": "string"
      },
      "text/plain": [
       "'Raj'"
      ]
     },
     "execution_count": 44,
     "metadata": {},
     "output_type": "execute_result"
    }
   ],
   "source": [
    "a[1]"
   ]
  },
  {
   "cell_type": "code",
   "execution_count": null,
   "metadata": {
    "colab": {
     "base_uri": "https://localhost:8080/",
     "height": 245
    },
    "executionInfo": {
     "elapsed": 484,
     "status": "error",
     "timestamp": 1721026937646,
     "user": {
      "displayName": "Asad Raza",
      "userId": "18380366987480511932"
     },
     "user_tz": -330
    },
    "id": "-AcnBsiqMNmi",
    "outputId": "32c80385-7d1f-4106-a40d-418504ea7860"
   },
   "outputs": [
    {
     "ename": "TypeError",
     "evalue": "'tuple' object does not support item assignment",
     "output_type": "error",
     "traceback": [
      "\u001b[0;31m---------------------------------------------------------------------------\u001b[0m",
      "\u001b[0;31mTypeError\u001b[0m                                 Traceback (most recent call last)",
      "\u001b[0;32m<ipython-input-45-18c7f228c880>\u001b[0m in \u001b[0;36m<cell line: 1>\u001b[0;34m()\u001b[0m\n\u001b[0;32m----> 1\u001b[0;31m \u001b[0ma\u001b[0m\u001b[0;34m[\u001b[0m\u001b[0;36m1\u001b[0m\u001b[0;34m]\u001b[0m\u001b[0;34m=\u001b[0m\u001b[0;34m\"Shyam\"\u001b[0m\u001b[0;34m\u001b[0m\u001b[0;34m\u001b[0m\u001b[0m\n\u001b[0m",
      "\u001b[0;31mTypeError\u001b[0m: 'tuple' object does not support item assignment"
     ]
    }
   ],
   "source": [
    "a[1]=\"Shyam\" #Like lists it would not change the elements because it is immutable and it does not support item assignment#"
   ]
  },
  {
   "cell_type": "code",
   "execution_count": null,
   "metadata": {
    "id": "yPvkh2p1M-6c"
   },
   "outputs": [],
   "source": [
    "#(Q)5)Describe the key features of sets and provide examples of their use"
   ]
  },
  {
   "cell_type": "code",
   "execution_count": null,
   "metadata": {
    "colab": {
     "base_uri": "https://localhost:8080/"
    },
    "executionInfo": {
     "elapsed": 482,
     "status": "ok",
     "timestamp": 1721030431893,
     "user": {
      "displayName": "Asad Raza",
      "userId": "18380366987480511932"
     },
     "user_tz": -330
    },
    "id": "cfCUZhY2M_UU",
    "outputId": "697d97ae-2305-4fa7-f5ae-a02e8468eda8"
   },
   "outputs": [
    {
     "data": {
      "text/plain": [
       "{1, 2, 3, 4, 5}"
      ]
     },
     "execution_count": 81,
     "metadata": {},
     "output_type": "execute_result"
    }
   ],
   "source": [
    "#(Ans):-key features of sets are as follows\n",
    "#(.)Sets are unordered and unique collection of elements.\n",
    "#(.)Sets does not allow duplicates.\n",
    "#(.)Sets are unordered that's why indexing will not work.\n",
    "#(Ex):-\n",
    "s={1,1,2,2,3,5,3,4,4,5,4}\n",
    "s"
   ]
  },
  {
   "cell_type": "code",
   "execution_count": null,
   "metadata": {
    "colab": {
     "base_uri": "https://localhost:8080/"
    },
    "executionInfo": {
     "elapsed": 1876,
     "status": "ok",
     "timestamp": 1721030725405,
     "user": {
      "displayName": "Asad Raza",
      "userId": "18380366987480511932"
     },
     "user_tz": -330
    },
    "id": "WXEwLCGnM_hE",
    "outputId": "95de589d-12b5-4807-a1bc-b9d053509820"
   },
   "outputs": [
    {
     "data": {
      "text/plain": [
       "{'Ajay', 'Munsi', 'Raj'}"
      ]
     },
     "execution_count": 82,
     "metadata": {},
     "output_type": "execute_result"
    }
   ],
   "source": [
    "#use cases\n",
    "Phone_book={\"Ajay\",\"Raj\",\"Munsi\",\"Ajay\",\"Raj\"}\n",
    "Phone_book"
   ]
  },
  {
   "cell_type": "code",
   "execution_count": null,
   "metadata": {
    "id": "iW7sJjTANAw8"
   },
   "outputs": [],
   "source": [
    "#(Q)6)Discuss the use cases of tuples and sets in Python programming"
   ]
  },
  {
   "cell_type": "code",
   "execution_count": 3,
   "metadata": {
    "colab": {
     "base_uri": "https://localhost:8080/"
    },
    "executionInfo": {
     "elapsed": 630,
     "status": "ok",
     "timestamp": 1721045929827,
     "user": {
      "displayName": "Asad Raza",
      "userId": "18380366987480511932"
     },
     "user_tz": -330
    },
    "id": "221Zb5x1NBYU",
    "outputId": "e8d9863b-5237-45de-bc01-a7ff240c5aa8"
   },
   "outputs": [
    {
     "data": {
      "text/plain": [
       "(101, 102, 103, 104, 105)"
      ]
     },
     "execution_count": 3,
     "metadata": {},
     "output_type": "execute_result"
    }
   ],
   "source": [
    "#(Ans):-Meaning of tuples:Tuples are ordered collection of elements that store/hold any data type,like mom's shopping bag.It is immutable.\n",
    "#Use cases of tuples #use tuples as a data structure where we don't want to modify the data.\n",
    "emp_id=(101,102,103,104,105)\n",
    "emp_id"
   ]
  },
  {
   "cell_type": "code",
   "execution_count": 4,
   "metadata": {
    "colab": {
     "base_uri": "https://localhost:8080/",
     "height": 245
    },
    "executionInfo": {
     "elapsed": 800,
     "status": "error",
     "timestamp": 1721045973857,
     "user": {
      "displayName": "Asad Raza",
      "userId": "18380366987480511932"
     },
     "user_tz": -330
    },
    "id": "5QMLgeVmNBuf",
    "outputId": "9c8dae36-3308-4be7-df85-c7929c79d5c3"
   },
   "outputs": [
    {
     "ename": "TypeError",
     "evalue": "'tuple' object does not support item assignment",
     "output_type": "error",
     "traceback": [
      "\u001b[0;31m---------------------------------------------------------------------------\u001b[0m",
      "\u001b[0;31mTypeError\u001b[0m                                 Traceback (most recent call last)",
      "\u001b[0;32m<ipython-input-4-cf22df6fb36d>\u001b[0m in \u001b[0;36m<cell line: 1>\u001b[0;34m()\u001b[0m\n\u001b[0;32m----> 1\u001b[0;31m \u001b[0memp_id\u001b[0m\u001b[0;34m[\u001b[0m\u001b[0;36m1\u001b[0m\u001b[0;34m]\u001b[0m\u001b[0;34m=\u001b[0m\u001b[0;36m100\u001b[0m\u001b[0;34m\u001b[0m\u001b[0;34m\u001b[0m\u001b[0m\n\u001b[0m",
      "\u001b[0;31mTypeError\u001b[0m: 'tuple' object does not support item assignment"
     ]
    }
   ],
   "source": [
    "emp_id[1]=100"
   ]
  },
  {
   "cell_type": "code",
   "execution_count": 6,
   "metadata": {
    "colab": {
     "base_uri": "https://localhost:8080/"
    },
    "executionInfo": {
     "elapsed": 648,
     "status": "ok",
     "timestamp": 1721046152735,
     "user": {
      "displayName": "Asad Raza",
      "userId": "18380366987480511932"
     },
     "user_tz": -330
    },
    "id": "8tuMD09BNCTx",
    "outputId": "82cb2c54-f209-4464-e648-aa614a94bacd"
   },
   "outputs": [
    {
     "data": {
      "text/plain": [
       "{'Raj', 'Raju', 'Sanju'}"
      ]
     },
     "execution_count": 6,
     "metadata": {},
     "output_type": "execute_result"
    }
   ],
   "source": [
    "# Meaning of sets:-Sets are unordered and unique collection of elements.It does not allow duplicates.\n",
    "#use cases of sets\n",
    "phone_book={\"Raj\",\"Sanju\",\"Raju\",\"Raj\",\"Raj\",\"Sanju\",\"Raju\"}\n",
    "phone_book"
   ]
  },
  {
   "cell_type": "code",
   "execution_count": null,
   "metadata": {
    "id": "OJg1jSnUNCq0"
   },
   "outputs": [],
   "source": [
    "#(Q)7)Describe how to add, modify, and delete items in a dictionary with examples"
   ]
  },
  {
   "cell_type": "code",
   "execution_count": 7,
   "metadata": {
    "colab": {
     "base_uri": "https://localhost:8080/"
    },
    "executionInfo": {
     "elapsed": 632,
     "status": "ok",
     "timestamp": 1721046443293,
     "user": {
      "displayName": "Asad Raza",
      "userId": "18380366987480511932"
     },
     "user_tz": -330
    },
    "id": "eSWhIZKWNDAq",
    "outputId": "ab3d6aab-a01f-4693-99ad-95d54355d0b6"
   },
   "outputs": [
    {
     "data": {
      "text/plain": [
       "{'Name': 'Asad', 'Sub': 'Data science', 'Des': 'Teacher'}"
      ]
     },
     "execution_count": 7,
     "metadata": {},
     "output_type": "execute_result"
    }
   ],
   "source": [
    "#(Ans):-Dictionary are a data structure that store data as a key value pair.It is unique and immutable.,but its value is Mutable.\n",
    "#How to add: #By using update function().\n",
    "#(Ex):-\n",
    "Dic={\"Name\":\"Asad\",\"Sub\":\"Data science\",\"Des\":\"Teacher\"}\n",
    "Dic"
   ]
  },
  {
   "cell_type": "code",
   "execution_count": 17,
   "metadata": {
    "colab": {
     "base_uri": "https://localhost:8080/"
    },
    "executionInfo": {
     "elapsed": 873,
     "status": "ok",
     "timestamp": 1721046955094,
     "user": {
      "displayName": "Asad Raza",
      "userId": "18380366987480511932"
     },
     "user_tz": -330
    },
    "id": "NeHBN5q7XNhU",
    "outputId": "e20d6c70-0489-4303-baaa-062a0d5699f2"
   },
   "outputs": [
    {
     "data": {
      "text/plain": [
       "{'Address': '32 Street Delhi road near station'}"
      ]
     },
     "execution_count": 17,
     "metadata": {},
     "output_type": "execute_result"
    }
   ],
   "source": [
    "D1={\"Address\":\"32 Street Delhi road near station\"}\n",
    "D1"
   ]
  },
  {
   "cell_type": "code",
   "execution_count": 18,
   "metadata": {
    "executionInfo": {
     "elapsed": 640,
     "status": "ok",
     "timestamp": 1721046979448,
     "user": {
      "displayName": "Asad Raza",
      "userId": "18380366987480511932"
     },
     "user_tz": -330
    },
    "id": "06loU47EXNzb"
   },
   "outputs": [],
   "source": [
    "Dic.update(D1)"
   ]
  },
  {
   "cell_type": "code",
   "execution_count": 19,
   "metadata": {
    "colab": {
     "base_uri": "https://localhost:8080/"
    },
    "executionInfo": {
     "elapsed": 657,
     "status": "ok",
     "timestamp": 1721046986695,
     "user": {
      "displayName": "Asad Raza",
      "userId": "18380366987480511932"
     },
     "user_tz": -330
    },
    "id": "KuxoYlsZXOFj",
    "outputId": "82024fdb-3418-4f5b-8847-cde240cbf4ce"
   },
   "outputs": [
    {
     "data": {
      "text/plain": [
       "{'Name': 'Asad',\n",
       " 'Sub': 'Data science',\n",
       " 'Des': 'Teacher',\n",
       " 'Address': '32 Street Delhi road near station'}"
      ]
     },
     "execution_count": 19,
     "metadata": {},
     "output_type": "execute_result"
    }
   ],
   "source": [
    "Dic"
   ]
  },
  {
   "cell_type": "code",
   "execution_count": 20,
   "metadata": {
    "colab": {
     "base_uri": "https://localhost:8080/"
    },
    "executionInfo": {
     "elapsed": 637,
     "status": "ok",
     "timestamp": 1721047032982,
     "user": {
      "displayName": "Asad Raza",
      "userId": "18380366987480511932"
     },
     "user_tz": -330
    },
    "id": "fzp4DC-HXOWk",
    "outputId": "17a78948-6616-414c-fbb4-c6e8ec3ad601"
   },
   "outputs": [
    {
     "data": {
      "text/plain": [
       "{'Name': 'Asad',\n",
       " 'Sub': 'Data science',\n",
       " 'Des': 'Teacher',\n",
       " 'Address': '32 Street Delhi road near station'}"
      ]
     },
     "execution_count": 20,
     "metadata": {},
     "output_type": "execute_result"
    }
   ],
   "source": [
    "#How to modify#\n",
    "Dic"
   ]
  },
  {
   "cell_type": "code",
   "execution_count": 22,
   "metadata": {
    "colab": {
     "base_uri": "https://localhost:8080/"
    },
    "executionInfo": {
     "elapsed": 643,
     "status": "ok",
     "timestamp": 1721047092100,
     "user": {
      "displayName": "Asad Raza",
      "userId": "18380366987480511932"
     },
     "user_tz": -330
    },
    "id": "4QEYlYsJXQzo",
    "outputId": "ddb6de1e-53cb-4a19-aa88-153a326d94c9"
   },
   "outputs": [
    {
     "data": {
      "text/plain": [
       "{'Name': 'Asad',\n",
       " 'Sub': 'Data Analytics',\n",
       " 'Des': 'Teacher',\n",
       " 'Address': '32 Street Delhi road near station'}"
      ]
     },
     "execution_count": 22,
     "metadata": {},
     "output_type": "execute_result"
    }
   ],
   "source": [
    "Dic[\"Sub\"]=\"Data Analytics\"\n",
    "Dic"
   ]
  },
  {
   "cell_type": "code",
   "execution_count": 24,
   "metadata": {
    "colab": {
     "base_uri": "https://localhost:8080/"
    },
    "executionInfo": {
     "elapsed": 8,
     "status": "ok",
     "timestamp": 1721047130537,
     "user": {
      "displayName": "Asad Raza",
      "userId": "18380366987480511932"
     },
     "user_tz": -330
    },
    "id": "WcAgDOxGXRJ_",
    "outputId": "f3a5c57e-e3b7-4674-9c43-54a34d46d749"
   },
   "outputs": [
    {
     "data": {
      "text/plain": [
       "{'Name': 'Ram',\n",
       " 'Sub': 'Data Analytics',\n",
       " 'Des': 'Teacher',\n",
       " 'Address': '32 Street Delhi road near station'}"
      ]
     },
     "execution_count": 24,
     "metadata": {},
     "output_type": "execute_result"
    }
   ],
   "source": [
    "Dic[\"Name\"]=\"Ram\"\n",
    "Dic"
   ]
  },
  {
   "cell_type": "code",
   "execution_count": 25,
   "metadata": {
    "colab": {
     "base_uri": "https://localhost:8080/"
    },
    "executionInfo": {
     "elapsed": 645,
     "status": "ok",
     "timestamp": 1721047244570,
     "user": {
      "displayName": "Asad Raza",
      "userId": "18380366987480511932"
     },
     "user_tz": -330
    },
    "id": "3sPWQSR1XRgS",
    "outputId": "14524e87-392e-4e53-e753-559d10cb041f"
   },
   "outputs": [
    {
     "data": {
      "text/plain": [
       "{'Name': 'Ram',\n",
       " 'Sub': 'Data Analytics',\n",
       " 'Des': 'Teacher',\n",
       " 'Address': '32 Street Delhi road near station'}"
      ]
     },
     "execution_count": 25,
     "metadata": {},
     "output_type": "execute_result"
    }
   ],
   "source": [
    "#How to delet# #By using del function(),clear function(),pop function()\n",
    "Dic"
   ]
  },
  {
   "cell_type": "code",
   "execution_count": 27,
   "metadata": {
    "colab": {
     "base_uri": "https://localhost:8080/"
    },
    "executionInfo": {
     "elapsed": 630,
     "status": "ok",
     "timestamp": 1721047422305,
     "user": {
      "displayName": "Asad Raza",
      "userId": "18380366987480511932"
     },
     "user_tz": -330
    },
    "id": "ACON3p1vXRz8",
    "outputId": "3e48134f-1bad-457d-cc41-64fa2f4cd935"
   },
   "outputs": [
    {
     "data": {
      "text/plain": [
       "{'Name': 'Ram', 'Sub': 'Data Analytics', 'Des': 'Teacher'}"
      ]
     },
     "execution_count": 27,
     "metadata": {},
     "output_type": "execute_result"
    }
   ],
   "source": [
    "Dic.pop(\"Address\")\n",
    "Dic"
   ]
  },
  {
   "cell_type": "code",
   "execution_count": null,
   "metadata": {
    "id": "ckuksRcGa8D5"
   },
   "outputs": [],
   "source": [
    "#(Q)8)Discuss the importance of dictionary keys being immutable and provide examples"
   ]
  },
  {
   "cell_type": "code",
   "execution_count": 45,
   "metadata": {
    "colab": {
     "base_uri": "https://localhost:8080/"
    },
    "executionInfo": {
     "elapsed": 642,
     "status": "ok",
     "timestamp": 1721048761087,
     "user": {
      "displayName": "Asad Raza",
      "userId": "18380366987480511932"
     },
     "user_tz": -330
    },
    "id": "VXdVM_naa8ZD",
    "outputId": "9b47b9e4-1e98-461c-95f8-80e199598899"
   },
   "outputs": [
    {
     "data": {
      "text/plain": [
       "{'Dad': 123, 'mom': 456, 'my_no': 8240}"
      ]
     },
     "execution_count": 45,
     "metadata": {},
     "output_type": "execute_result"
    }
   ],
   "source": [
    "#(Ans):-Dictionary keys being immutable because it is unique.If the keys were a Mutable object,its value could change.\n",
    "#(Ex):-\n",
    "Phone_book={\"Dad\":(123),\"mom\":(456),\"my_no\":(8240)}\n",
    "Phone_book"
   ]
  },
  {
   "cell_type": "code",
   "execution_count": 47,
   "metadata": {
    "colab": {
     "base_uri": "https://localhost:8080/"
    },
    "executionInfo": {
     "elapsed": 615,
     "status": "ok",
     "timestamp": 1721048851557,
     "user": {
      "displayName": "Asad Raza",
      "userId": "18380366987480511932"
     },
     "user_tz": -330
    },
    "id": "fix07Edpa940",
    "outputId": "f153a97b-ad35-4adb-817a-61c27fb215dd"
   },
   "outputs": [
    {
     "data": {
      "text/plain": [
       "{1: 'a'}"
      ]
     },
     "execution_count": 47,
     "metadata": {},
     "output_type": "execute_result"
    }
   ],
   "source": [
    "\n",
    "#only numbers and string can only be key of dictionary,as you see in the code.\n",
    "D={1:\"a\"} #Integer as a key\n",
    "D"
   ]
  },
  {
   "cell_type": "code",
   "execution_count": 48,
   "metadata": {
    "colab": {
     "base_uri": "https://localhost:8080/"
    },
    "executionInfo": {
     "elapsed": 604,
     "status": "ok",
     "timestamp": 1721048896411,
     "user": {
      "displayName": "Asad Raza",
      "userId": "18380366987480511932"
     },
     "user_tz": -330
    },
    "id": "DQW-IG62gZwI",
    "outputId": "288b03a3-8fdf-4b41-9a15-03c5ead1e1c5"
   },
   "outputs": [
    {
     "data": {
      "text/plain": [
       "{1.2: 'bn'}"
      ]
     },
     "execution_count": 48,
     "metadata": {},
     "output_type": "execute_result"
    }
   ],
   "source": [
    "D={1.2:\"bn\"} #Float can be key\n",
    "D"
   ]
  },
  {
   "cell_type": "code",
   "execution_count": 49,
   "metadata": {
    "colab": {
     "base_uri": "https://localhost:8080/",
     "height": 124
    },
    "executionInfo": {
     "elapsed": 648,
     "status": "error",
     "timestamp": 1721049239647,
     "user": {
      "displayName": "Asad Raza",
      "userId": "18380366987480511932"
     },
     "user_tz": -330
    },
    "id": "9XD0Ruz6gZ7z",
    "outputId": "e80e9a29-e6d0-4ac9-b420-1cd7af384fdc"
   },
   "outputs": [
    {
     "ename": "SyntaxError",
     "evalue": "invalid syntax (<ipython-input-49-9584146d731f>, line 3)",
     "output_type": "error",
     "traceback": [
      "\u001b[0;36m  File \u001b[0;32m\"<ipython-input-49-9584146d731f>\"\u001b[0;36m, line \u001b[0;32m3\u001b[0m\n\u001b[0;31m    A={@:\"abc\"}\u001b[0m\n\u001b[0m       ^\u001b[0m\n\u001b[0;31mSyntaxError\u001b[0m\u001b[0;31m:\u001b[0m invalid syntax\n"
     ]
    }
   ],
   "source": [
    "#but (#,@,list,etc) it will not considered as a key that's why it is unique and some elements  have rights to become key of dictionary.\n",
    "#(Ex):-\n",
    "A={@:\"abc\"}"
   ]
  },
  {
   "cell_type": "code",
   "execution_count": 50,
   "metadata": {
    "colab": {
     "base_uri": "https://localhost:8080/",
     "height": 124
    },
    "executionInfo": {
     "elapsed": 642,
     "status": "error",
     "timestamp": 1721049268091,
     "user": {
      "displayName": "Asad Raza",
      "userId": "18380366987480511932"
     },
     "user_tz": -330
    },
    "id": "Rn60A_HKgaH9",
    "outputId": "934b01f8-ce9e-4903-a68f-277a0e7c9778"
   },
   "outputs": [
    {
     "ename": "SyntaxError",
     "evalue": "incomplete input (<ipython-input-50-7b9d01082e5b>, line 1)",
     "output_type": "error",
     "traceback": [
      "\u001b[0;36m  File \u001b[0;32m\"<ipython-input-50-7b9d01082e5b>\"\u001b[0;36m, line \u001b[0;32m1\u001b[0m\n\u001b[0;31m    C={#:123}\u001b[0m\n\u001b[0m             ^\u001b[0m\n\u001b[0;31mSyntaxError\u001b[0m\u001b[0;31m:\u001b[0m incomplete input\n"
     ]
    }
   ],
   "source": [
    "C={#:123}"
   ]
  },
  {
   "cell_type": "code",
   "execution_count": 51,
   "metadata": {
    "colab": {
     "base_uri": "https://localhost:8080/",
     "height": 245
    },
    "executionInfo": {
     "elapsed": 628,
     "status": "error",
     "timestamp": 1721049312895,
     "user": {
      "displayName": "Asad Raza",
      "userId": "18380366987480511932"
     },
     "user_tz": -330
    },
    "id": "sNGKp0pIh-Z8",
    "outputId": "dc03948e-586a-485d-e3a8-e0f16e63f9a9"
   },
   "outputs": [
    {
     "ename": "TypeError",
     "evalue": "unhashable type: 'list'",
     "output_type": "error",
     "traceback": [
      "\u001b[0;31m---------------------------------------------------------------------------\u001b[0m",
      "\u001b[0;31mTypeError\u001b[0m                                 Traceback (most recent call last)",
      "\u001b[0;32m<ipython-input-51-b24ce17777d7>\u001b[0m in \u001b[0;36m<cell line: 1>\u001b[0;34m()\u001b[0m\n\u001b[0;32m----> 1\u001b[0;31m \u001b[0md\u001b[0m\u001b[0;34m=\u001b[0m\u001b[0;34m{\u001b[0m\u001b[0;34m[\u001b[0m\u001b[0;36m1\u001b[0m\u001b[0;34m,\u001b[0m\u001b[0;36m2\u001b[0m\u001b[0;34m,\u001b[0m\u001b[0;36m3\u001b[0m\u001b[0;34m]\u001b[0m\u001b[0;34m:\u001b[0m\u001b[0;34m\"shayam\"\u001b[0m\u001b[0;34m}\u001b[0m\u001b[0;34m\u001b[0m\u001b[0;34m\u001b[0m\u001b[0m\n\u001b[0m",
      "\u001b[0;31mTypeError\u001b[0m: unhashable type: 'list'"
     ]
    }
   ],
   "source": [
    "d={[1,2,3]:\"shayam\"}"
   ]
  }
 ],
 "metadata": {
  "colab": {
   "provenance": [
    {
     "file_id": "1VnFedC0vTn2JiDiVwa7z2CXf7jdutRNt",
     "timestamp": 1721049344908
    }
   ]
  },
  "kernelspec": {
   "display_name": "Python 3 (ipykernel)",
   "language": "python",
   "name": "python3"
  },
  "language_info": {
   "codemirror_mode": {
    "name": "ipython",
    "version": 3
   },
   "file_extension": ".py",
   "mimetype": "text/x-python",
   "name": "python",
   "nbconvert_exporter": "python",
   "pygments_lexer": "ipython3",
   "version": "3.10.8"
  }
 },
 "nbformat": 4,
 "nbformat_minor": 4
}
